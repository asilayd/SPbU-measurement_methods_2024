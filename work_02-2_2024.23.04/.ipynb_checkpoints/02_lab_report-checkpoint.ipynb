{
 "cells": [
  {
   "cell_type": "markdown",
   "id": "4f576bee",
   "metadata": {},
   "source": [
    "<div align=\"center\"> \n",
    "    Санкт-Петербургский государственный университет\n",
    "</div>\n",
    "<div align=\"center\"> \n",
    "    Saint-Petersburg State University\n",
    "</div>\n",
    "\n",
    "<br/><br/>  <br/><br/>\n",
    "\n",
    "<div align=\"center\">  \n",
    "    Кафедра физической механики\n",
    "</div>\n",
    "\n",
    "<center><b>Отчет</b></center>\n",
    "<center><b>По лабораторной работе №2 <br/> Электронный осциллограф </b></center>\n",
    "<br/><br/>  <br/><br/>\n",
    "<center>Дисциплина <br/> Методы измерений и электромеханические системы <center>\n",
    "    \n",
    "\n",
    "<div align=\"right\">  \n",
    "    Выполнил: <br/> студент группы 251 <br/> Осянин Д.А.\n",
    "</div>\n",
    "    \n",
    "  <center>Санкт-Петербург <br/> 2024 <center>"
   ]
  },
  {
   "cell_type": "markdown",
   "id": "fa2700eb",
   "metadata": {},
   "source": [
    "## Введение\n",
    "\n",
    "### Задачи лабораторной работы\n",
    "1. Исследовать чувствительность пластин вертикального и горизонтального отклонений осциллографической трубки.<br>\n",
    "2. Наблюдать с помощью осциллографа синусоидальное напряжение, полученное с выхода генератора. <br>\n",
    "3. Получить фигуры Лиссажу и определить частоту исследуемого напряжения по фигурам Лиссажу. <br>\n",
    "\n",
    "\n",
    "## Основная часть \n",
    "\n",
    "### Установка\n",
    "\n",
    "<img src=\"setup.png\" alt=\"drawing\" width=\"400\"/>\n",
    "Схема электрической цепи для исследования чувствительности платин электронно-лучевой трубки и получения фигур Лиссажу\n",
    "\n",
    "<img src=\"oscil.png\" alt=\"drawing\" width=\"400\"/>\n",
    "Упрощенная блок-схема осциллографа\n",
    "\n",
    "<img src=\"scheme.png\" alt=\"drawing\" width=\"400\"/>\n",
    "Схема электрической цепи для наблюдения исследуемого напряжения и определения максимальной чувствительности осциллографа"
   ]
  },
  {
   "cell_type": "markdown",
   "id": "ab607fb5",
   "metadata": {},
   "source": [
    "### Обработка результатов\n",
    "\n",
    "Исследование чувствительности пластин осциллографической трубки. Формула для\n",
    "расчета чувствительности (как горизонтального, так и вертикального отклонений, а\n",
    "также для самого осциллографа): $ S =  \\frac{L} {2 \\sqrt{2} U_{eff}} $\n"
   ]
  },
  {
   "cell_type": "code",
   "execution_count": 80,
   "id": "bfd44476",
   "metadata": {},
   "outputs": [
    {
     "name": "stdout",
     "output_type": "stream",
     "text": [
      "Чувствительность пластин вертикального отклонения (ПВО)\n"
     ]
    },
    {
     "data": {
      "text/html": [
       "<div>\n",
       "<style scoped>\n",
       "    .dataframe tbody tr th:only-of-type {\n",
       "        vertical-align: middle;\n",
       "    }\n",
       "\n",
       "    .dataframe tbody tr th {\n",
       "        vertical-align: top;\n",
       "    }\n",
       "\n",
       "    .dataframe thead th {\n",
       "        text-align: right;\n",
       "    }\n",
       "</style>\n",
       "<table border=\"1\" class=\"dataframe\">\n",
       "  <thead>\n",
       "    <tr style=\"text-align: right;\">\n",
       "      <th></th>\n",
       "      <th>Эффективное напряжение, $U_{eff}$ (В)</th>\n",
       "      <th>Чувствительность, S (мм/ В)</th>\n",
       "    </tr>\n",
       "    <tr>\n",
       "      <th>Длина линии на экране, L (мм)</th>\n",
       "      <th></th>\n",
       "      <th></th>\n",
       "    </tr>\n",
       "  </thead>\n",
       "  <tbody>\n",
       "    <tr>\n",
       "      <th>10</th>\n",
       "      <td>5.00</td>\n",
       "      <td>0.707107</td>\n",
       "    </tr>\n",
       "    <tr>\n",
       "      <th>20</th>\n",
       "      <td>11.68</td>\n",
       "      <td>0.605400</td>\n",
       "    </tr>\n",
       "    <tr>\n",
       "      <th>30</th>\n",
       "      <td>18.73</td>\n",
       "      <td>0.566289</td>\n",
       "    </tr>\n",
       "    <tr>\n",
       "      <th>40</th>\n",
       "      <td>24.70</td>\n",
       "      <td>0.572556</td>\n",
       "    </tr>\n",
       "  </tbody>\n",
       "</table>\n",
       "</div>"
      ],
      "text/plain": [
       "                               Эффективное напряжение, $U_{eff}$ (В)  \\\n",
       "Длина линии на экране, L (мм)                                          \n",
       "10                                                              5.00   \n",
       "20                                                             11.68   \n",
       "30                                                             18.73   \n",
       "40                                                             24.70   \n",
       "\n",
       "                               Чувствительность, S (мм/ В)  \n",
       "Длина линии на экране, L (мм)                               \n",
       "10                                                0.707107  \n",
       "20                                                0.605400  \n",
       "30                                                0.566289  \n",
       "40                                                0.572556  "
      ]
     },
     "execution_count": 80,
     "metadata": {},
     "output_type": "execute_result"
    }
   ],
   "source": [
    "import pandas as pd\n",
    "\n",
    "u_vert = pd.read_csv(\"vertical.csv\")\n",
    "u_vert_list = u_vert[u_vert.columns[0]].to_list()\n",
    "\n",
    "s_list_vert = [10*(i+1)/(2*(2)**0.5*u_vert_list[i]) for i in range(len(u_vert_list))]\n",
    "\n",
    "n1 = \"Длина линии на экране, L (мм)\"\n",
    "n2 = \"Эффективное напряжение, $U_{eff}$ (В)\"\n",
    "n3 = \"Чувствительность, S (мм/ В)\"\n",
    "\n",
    "table_1 = pd.DataFrame({n1: range(10, 50, 10), n2: u_vert_list, n3: s_list_vert})\n",
    "table_1.to_csv(\"table_1.csv\", index=False)\n",
    "\n",
    "table1 = pd.read_csv(\"table_1.csv\", index_col=0)\n",
    "print('Чувствительность пластин вертикального отклонения (ПВО)')\n",
    "table1"
   ]
  },
  {
   "cell_type": "code",
   "execution_count": 81,
   "id": "32e302a0",
   "metadata": {},
   "outputs": [
    {
     "name": "stdout",
     "output_type": "stream",
     "text": [
      "Чувствительность пластин горизонтального отклонения (ПГО)\n"
     ]
    },
    {
     "data": {
      "text/html": [
       "<div>\n",
       "<style scoped>\n",
       "    .dataframe tbody tr th:only-of-type {\n",
       "        vertical-align: middle;\n",
       "    }\n",
       "\n",
       "    .dataframe tbody tr th {\n",
       "        vertical-align: top;\n",
       "    }\n",
       "\n",
       "    .dataframe thead th {\n",
       "        text-align: right;\n",
       "    }\n",
       "</style>\n",
       "<table border=\"1\" class=\"dataframe\">\n",
       "  <thead>\n",
       "    <tr style=\"text-align: right;\">\n",
       "      <th></th>\n",
       "      <th>Эффективное напряжение, $U_{eff}$ (В)</th>\n",
       "      <th>Чувствительность, S (мм/ В)</th>\n",
       "    </tr>\n",
       "    <tr>\n",
       "      <th>Длина линии на экране, L (мм)</th>\n",
       "      <th></th>\n",
       "      <th></th>\n",
       "    </tr>\n",
       "  </thead>\n",
       "  <tbody>\n",
       "    <tr>\n",
       "      <th>10</th>\n",
       "      <td>5.54</td>\n",
       "      <td>0.638183</td>\n",
       "    </tr>\n",
       "    <tr>\n",
       "      <th>20</th>\n",
       "      <td>11.46</td>\n",
       "      <td>0.617022</td>\n",
       "    </tr>\n",
       "    <tr>\n",
       "      <th>30</th>\n",
       "      <td>17.43</td>\n",
       "      <td>0.608526</td>\n",
       "    </tr>\n",
       "    <tr>\n",
       "      <th>40</th>\n",
       "      <td>22.60</td>\n",
       "      <td>0.625758</td>\n",
       "    </tr>\n",
       "  </tbody>\n",
       "</table>\n",
       "</div>"
      ],
      "text/plain": [
       "                               Эффективное напряжение, $U_{eff}$ (В)  \\\n",
       "Длина линии на экране, L (мм)                                          \n",
       "10                                                              5.54   \n",
       "20                                                             11.46   \n",
       "30                                                             17.43   \n",
       "40                                                             22.60   \n",
       "\n",
       "                               Чувствительность, S (мм/ В)  \n",
       "Длина линии на экране, L (мм)                               \n",
       "10                                                0.638183  \n",
       "20                                                0.617022  \n",
       "30                                                0.608526  \n",
       "40                                                0.625758  "
      ]
     },
     "execution_count": 81,
     "metadata": {},
     "output_type": "execute_result"
    }
   ],
   "source": [
    "u_horizont = pd.read_csv(\"horizontal.csv\")\n",
    "u_horizont_list = u_horizont[u_horizont.columns[0]].to_list()\n",
    "\n",
    "s_list_hor = [10*(i+1)/(2*(2)**0.5*u_horizont_list[i]) for i in range(len(u_horizont_list))]\n",
    "\n",
    "n1 = \"Длина линии на экране, L (мм)\"\n",
    "n2 = \"Эффективное напряжение, $U_{eff}$ (В)\"\n",
    "n3 = \"Чувствительность, S (мм/ В)\"\n",
    "\n",
    "table_2 = pd.DataFrame({n1: range(10, 50, 10), n2: u_horizont_list, n3: s_list_hor})\n",
    "table_2.to_csv(\"table_2.csv\", index=False)\n",
    "\n",
    "table2 = pd.read_csv(\"table_2.csv\", index_col=0)\n",
    "print('Чувствительность пластин горизонтального отклонения (ПГО)')\n",
    "table2"
   ]
  },
  {
   "cell_type": "code",
   "execution_count": 82,
   "id": "d3772513",
   "metadata": {},
   "outputs": [
    {
     "name": "stdout",
     "output_type": "stream",
     "text": [
      "Максимальная чувствительность осцилографа\n"
     ]
    },
    {
     "data": {
      "text/html": [
       "<div>\n",
       "<style scoped>\n",
       "    .dataframe tbody tr th:only-of-type {\n",
       "        vertical-align: middle;\n",
       "    }\n",
       "\n",
       "    .dataframe tbody tr th {\n",
       "        vertical-align: top;\n",
       "    }\n",
       "\n",
       "    .dataframe thead th {\n",
       "        text-align: right;\n",
       "    }\n",
       "</style>\n",
       "<table border=\"1\" class=\"dataframe\">\n",
       "  <thead>\n",
       "    <tr style=\"text-align: right;\">\n",
       "      <th></th>\n",
       "      <th>Эффективное напряжение, $U_{eff}$ (В)</th>\n",
       "      <th>Чувствительность, S (мм/ В)</th>\n",
       "    </tr>\n",
       "    <tr>\n",
       "      <th>Длина линии на экране, L (мм)</th>\n",
       "      <th></th>\n",
       "      <th></th>\n",
       "    </tr>\n",
       "  </thead>\n",
       "  <tbody>\n",
       "    <tr>\n",
       "      <th>10</th>\n",
       "      <td>0.59</td>\n",
       "      <td>5.992430</td>\n",
       "    </tr>\n",
       "    <tr>\n",
       "      <th>20</th>\n",
       "      <td>1.59</td>\n",
       "      <td>4.447212</td>\n",
       "    </tr>\n",
       "    <tr>\n",
       "      <th>30</th>\n",
       "      <td>2.60</td>\n",
       "      <td>4.079462</td>\n",
       "    </tr>\n",
       "    <tr>\n",
       "      <th>40</th>\n",
       "      <td>4.01</td>\n",
       "      <td>3.526717</td>\n",
       "    </tr>\n",
       "  </tbody>\n",
       "</table>\n",
       "</div>"
      ],
      "text/plain": [
       "                               Эффективное напряжение, $U_{eff}$ (В)  \\\n",
       "Длина линии на экране, L (мм)                                          \n",
       "10                                                              0.59   \n",
       "20                                                              1.59   \n",
       "30                                                              2.60   \n",
       "40                                                              4.01   \n",
       "\n",
       "                               Чувствительность, S (мм/ В)  \n",
       "Длина линии на экране, L (мм)                               \n",
       "10                                                5.992430  \n",
       "20                                                4.447212  \n",
       "30                                                4.079462  \n",
       "40                                                3.526717  "
      ]
     },
     "execution_count": 82,
     "metadata": {},
     "output_type": "execute_result"
    }
   ],
   "source": [
    "u_mx = pd.read_csv(\"max.csv\")\n",
    "u_mx_list = u_mx[u_mx.columns[0]].to_list()\n",
    "\n",
    "s_list_mx = [10*(i+1)/(2*(2)**0.5*u_mx_list[i]) for i in range(len(u_mx_list))]\n",
    "\n",
    "n1 = \"Длина линии на экране, L (мм)\"\n",
    "n2 = \"Эффективное напряжение, $U_{eff}$ (В)\"\n",
    "n3 = \"Чувствительность, S (мм/ В)\"\n",
    "\n",
    "table_3 = pd.DataFrame({n1: range(10, 50, 10), n2: u_mx_list, n3: s_list})\n",
    "table_3.to_csv(\"table_3.csv\", index=False)\n",
    "\n",
    "table3 = pd.read_csv(\"table_3.csv\", index_col=0)\n",
    "print('Максимальная чувствительность осцилографа')\n",
    "table3"
   ]
  },
  {
   "cell_type": "code",
   "execution_count": 83,
   "id": "8fad4e25",
   "metadata": {},
   "outputs": [
    {
     "data": {
      "text/html": [
       "<div>\n",
       "<style scoped>\n",
       "    .dataframe tbody tr th:only-of-type {\n",
       "        vertical-align: middle;\n",
       "    }\n",
       "\n",
       "    .dataframe tbody tr th {\n",
       "        vertical-align: top;\n",
       "    }\n",
       "\n",
       "    .dataframe thead th {\n",
       "        text-align: right;\n",
       "    }\n",
       "</style>\n",
       "<table border=\"1\" class=\"dataframe\">\n",
       "  <thead>\n",
       "    <tr style=\"text-align: right;\">\n",
       "      <th></th>\n",
       "      <th>Отношение частот $f_x / f_y$</th>\n",
       "      <th>Частота по лимбу генератора $f_y, Гц$</th>\n",
       "      <th>Исследуемая частота $f_x, Гц$</th>\n",
       "    </tr>\n",
       "    <tr>\n",
       "      <th>Вид фигуры Лиссажу</th>\n",
       "      <th></th>\n",
       "      <th></th>\n",
       "      <th></th>\n",
       "    </tr>\n",
       "  </thead>\n",
       "  <tbody>\n",
       "    <tr>\n",
       "      <th>O</th>\n",
       "      <td>1:1</td>\n",
       "      <td>49.90</td>\n",
       "      <td>49.90</td>\n",
       "    </tr>\n",
       "    <tr>\n",
       "      <th>8</th>\n",
       "      <td>2:1</td>\n",
       "      <td>25.01</td>\n",
       "      <td>50.02</td>\n",
       "    </tr>\n",
       "    <tr>\n",
       "      <th>OOO</th>\n",
       "      <td>1:3</td>\n",
       "      <td>149.70</td>\n",
       "      <td>49.90</td>\n",
       "    </tr>\n",
       "    <tr>\n",
       "      <th>OO</th>\n",
       "      <td>1:2</td>\n",
       "      <td>101.00</td>\n",
       "      <td>50.50</td>\n",
       "    </tr>\n",
       "  </tbody>\n",
       "</table>\n",
       "</div>"
      ],
      "text/plain": [
       "                   Отношение частот $f_x / f_y$  \\\n",
       "Вид фигуры Лиссажу                                \n",
       "O                                           1:1   \n",
       "8                                           2:1   \n",
       "OOO                                         1:3   \n",
       "OO                                          1:2   \n",
       "\n",
       "                    Частота по лимбу генератора $f_y, Гц$  \\\n",
       "Вид фигуры Лиссажу                                          \n",
       "O                                                   49.90   \n",
       "8                                                   25.01   \n",
       "OOO                                                149.70   \n",
       "OO                                                 101.00   \n",
       "\n",
       "                    Исследуемая частота $f_x, Гц$  \n",
       "Вид фигуры Лиссажу                                 \n",
       "O                                           49.90  \n",
       "8                                           50.02  \n",
       "OOO                                         49.90  \n",
       "OO                                          50.50  "
      ]
     },
     "execution_count": 83,
     "metadata": {},
     "output_type": "execute_result"
    }
   ],
   "source": [
    "n1 = \"Вид фигуры Лиссажу\"\n",
    "n2 = \"Отношение частот $f_x / f_y$\"\n",
    "n3 = \"Частота по лимбу генератора $f_y, Гц$\"\n",
    "n4 = \"Исследуемая частота $f_x, Гц$\"\n",
    "\n",
    "cl_1 = [\"O\", \"8\", \"OOO\", \"OO\"]\n",
    "cl_2 = [\"1:1\", \"2:1\", \"1:3\", \"1:2\"]\n",
    "cl_3 = [49.9, 25.01, 149.7, 101]\n",
    "cl_4 = [49.9, 50.02, 49.9,50.5]\n",
    "        \n",
    "df = pd.DataFrame({n1: cl_1, n2: cl_2, n3: cl_3, n4:cl_4})\n",
    "df.to_csv(\"table3.scv\", index=False)\n",
    "        \n",
    "table = pd.read_csv(\"table3.scv\", index_col=0)\n",
    "table\n",
    "\n"
   ]
  },
  {
   "cell_type": "markdown",
   "id": "49b5d767",
   "metadata": {},
   "source": [
    "Вычислим среднее значение исследуемой частоты и стандартную погрешность: $ \\overline f_{x} = 49 \\pm 0,1 Гц $"
   ]
  },
  {
   "cell_type": "code",
   "execution_count": 84,
   "id": "7fb30bf5",
   "metadata": {},
   "outputs": [
    {
     "name": "stdout",
     "output_type": "stream",
     "text": [
      "среднее значение вертикальной чувcтвительности: 0.6128 мм/В\n",
      "среднее значение горизонтальной чувcтвительности: 0.6224 мм/В \n",
      "среднее значение максимальной чувcтвительности: 4.5115\n"
     ]
    }
   ],
   "source": [
    "av_s_vert = sum(s_list_vert)/len(s_list_vert)\n",
    "av_s_hor = sum(s_list_hor)/len(s_list_hor)\n",
    "av_mx = sum(s_list_mx)/len(s_list_mx)\n",
    "print(\"среднее значение вертикальной чувcтвительности:\", \n",
    "      round(av_s_vert, 4), \n",
    "      \"мм/В\\nсреднее значение горизонтальной чувcтвительности:\", \n",
    "      round(av_s_hor, 4), \"мм/В\", \"\\nсреднее значение максимальной чувcтвительности:\", round(av_mx, 4))"
   ]
  },
  {
   "cell_type": "code",
   "execution_count": 85,
   "id": "f9ec8816",
   "metadata": {},
   "outputs": [
    {
     "name": "stdout",
     "output_type": "stream",
     "text": [
      "средне квадратичная погрешность вертикальной 0.032572137662966266 \n",
      "средне квадратичная погрешность горизонтальной 0.006336423534232455 \n",
      "средне квадратичная погрешность максимальной 0.5286572278067886\n",
      "\n",
      "Максимальный коэффициент усиления осциллографического усилителя  83.43148543507611\n"
     ]
    }
   ],
   "source": [
    "n = 4\n",
    "st_dev_vert = (sum((s_list_vert[i]-av_s_vert)**2 for i in range(4))/(n*(n-1)))**0.5\n",
    "st_dev_hor = (sum((s_list_hor[i]-av_s_hor)**2 for i in range(4))/(n*(n-1)))**0.5\n",
    "st_dev_mx = (sum((s_list_mx[i]-av_mx)**2 for i in range(4))/(n*(n-1)))**0.5\n",
    "print(\"средне квадратичная погрешность вертикальной\", st_dev_vert,\n",
    "      \"\\nсредне квадратичная погрешность горизонтальной\", st_dev_hor, \"\\nсредне квадратичная погрешность максимальной\", st_dev_mx )\n",
    "K = st_dev_mx/st_dev_hor\n",
    "print(\"\\nМаксимальный коэффициент усиления осциллографического усилителя \", K)"
   ]
  },
  {
   "cell_type": "markdown",
   "id": "b7cc7e4a",
   "metadata": {},
   "source": [
    "Получили: <br/>\n",
    "$ \\overline S_{верт} = 0.6128 \\pm  0.03257 мм/В $ <br/>\n",
    "$ \\overline S_{гор} = 0.6224 \\pm 0.00634 мм/В $ <br/>\n",
    "$ \\overline S_{макс} = 4.5115 \\pm 0.5287 мм/В $ <br/>\n",
    "$ K_{m} = \\frac {\\overline S_{макс}} {\\overline S_{гор}} = 83.4315 $"
   ]
  },
  {
   "cell_type": "code",
   "execution_count": 97,
   "id": "8859fe0a",
   "metadata": {},
   "outputs": [
    {
     "data": {
      "image/png": "[encoded data removed]",
      "text/plain": [
       "<Figure size 640x480 with 1 Axes>"
      ]
     },
     "metadata": {},
     "output_type": "display_data"
    }
   ],
   "source": [
    "import matplotlib.pyplot as plt\n",
    "import numpy as np \n",
    "\n",
    "\n",
    "points = [(u_vert_list[i], s_list_vert[i]) for i in range(4) ]\n",
    "\n",
    "d = 0.03257\n",
    "fig, ax = plt.subplots()\n",
    "\n",
    "#fig = plt.figure(figsize =(4, 4))\n",
    "for (x, y) in points:\n",
    "    ax.plot(x, y, 'o', color='lightblue')\n",
    "    ax.plot([x, x], [y - d, y + d], color='lightblue')\n",
    "    \n",
    "main_ticks = [round(x * 0.05, 2) for x in range(11, 15)]  # Основные штрихи от 0.55 до 0.7 с шагом 0.05\n",
    "sub_ticks = [round(x * 0.01, 2) for x in range(55, 75)]\n",
    "\n",
    "# Устанавливаем все штрихи\n",
    "ax.set_yticks(sub_ticks)\n",
    "# Устанавливаем метки только для основных штрихов\n",
    "ax.set_yticklabels(['' if tick not in main_ticks else str(tick) for tick in sub_ticks])\n",
    "\n",
    "ax.set_xlabel(\"$U_{eff}$\")\n",
    "ax.set_ylabel(\"$S_{y}$\")\n",
    "ax.set_title('График зависимости $s_y = f (U_{eff})$')\n",
    "\n",
    "plt.show()"
   ]
  },
  {
   "cell_type": "code",
   "execution_count": 95,
   "id": "acf89373",
   "metadata": {},
   "outputs": [
    {
     "data": {
      "image/png": "[encoded data removed]",
      "text/plain": [
       "<Figure size 640x480 with 1 Axes>"
      ]
     },
     "metadata": {},
     "output_type": "display_data"
    }
   ],
   "source": [
    "points = [(u_horizont_list[i], s_list_hor[i]) for i in range(4) ]\n",
    "\n",
    "d = 0.03257\n",
    "fig, ax = plt.subplots()\n",
    "\n",
    "#fig = plt.figure(figsize =(4, 4))\n",
    "for (x, y) in points:\n",
    "    ax.plot(x, y, 'o', color='lightblue')\n",
    "    ax.plot([x, x], [y - d, y + d], color='lightblue')\n",
    "    \n",
    "main_ticks = [round(x * 0.05, 2) for x in range(11, 15)]  # Основные штрихи от 0.55 до 0.7 с шагом 0.05\n",
    "sub_ticks = [round(x * 0.01, 2) for x in range(55, 70)]\n",
    "\n",
    "# Устанавливаем все штрихи\n",
    "ax.set_yticks(sub_ticks)\n",
    "# Устанавливаем метки только для основных штрихов\n",
    "ax.set_yticklabels(['' if tick not in main_ticks else str(tick) for tick in sub_ticks])\n",
    "\n",
    "ax.set_xlabel(\"$U_{eff}$\")\n",
    "ax.set_ylabel(\"$S_{x}$\")\n",
    "ax.set_title('График зависимости $s_x = f(U_{eff})$')\n",
    "\n",
    "plt.show()"
   ]
  },
  {
   "cell_type": "markdown",
   "id": "15b1f034",
   "metadata": {},
   "source": [
    "### Вывод \n",
    "\n",
    "В результате проделанной работы я познакомился с принципами работы с\n",
    "электронным осциллографом, исследовал чувствительность пластин вертикального\n",
    "и горизонтального отклонений осциллографической трубки, а также подаваемый на\n",
    "экран осциллографа переменный во времени усиленный электрический сигнал, с\n",
    "помощью осциллографа произвел наблюдение синусоидального напряжения,\n",
    "полученное с выхода генератора, и наконец определил частоту исследуемого\n",
    "напряжения по фигурам Лиссажу."
   ]
  }
 ],
 "metadata": {
  "kernelspec": {
   "display_name": "Python 3 (ipykernel)",
   "language": "python",
   "name": "python3"
  },
  "language_info": {
   "codemirror_mode": {
    "name": "ipython",
    "version": 3
   },
   "file_extension": ".py",
   "mimetype": "text/x-python",
   "name": "python",
   "nbconvert_exporter": "python",
   "pygments_lexer": "ipython3",
   "version": "3.11.7"
  }
 },
 "nbformat": 4,
 "nbformat_minor": 5
}
